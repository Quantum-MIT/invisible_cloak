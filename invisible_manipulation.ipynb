{
 "cells": [
  {
   "cell_type": "code",
   "execution_count": 74,
   "metadata": {},
   "outputs": [],
   "source": [
    "import numpy as np\n",
    "import cv2 as cv\n",
    "import matplotlib.pyplot as plt\n"
   ]
  },
  {
   "cell_type": "code",
   "execution_count": 75,
   "metadata": {},
   "outputs": [],
   "source": [
    "back = cv.imread('back.jpg')\n",
    "red = cv.imread('red.jpg')"
   ]
  },
  {
   "cell_type": "code",
   "execution_count": 76,
   "metadata": {},
   "outputs": [],
   "source": [
    "cv.imshow(\"background\",back)\n",
    "cv.waitKey(0)\n",
    "cv.destroyAllWindows()"
   ]
  },
  {
   "cell_type": "code",
   "execution_count": 77,
   "metadata": {},
   "outputs": [],
   "source": [
    "cv.imshow(\"whole_image\",red)\n",
    "cv.waitKey(0)\n",
    "cv.destroyAllWindows()"
   ]
  },
  {
   "cell_type": "code",
   "execution_count": 10,
   "metadata": {},
   "outputs": [],
   "source": [
    "hsv = cv.cvtColor(red, cv.COLOR_BGR2HSV)\n",
    "    \n",
    "lower_red = np.array([0,120,50])\n",
    "upper_red = np.array([10,255,255])\n",
    "mask1 = cv.inRange(hsv,lower_red,upper_red)\n",
    "    \n",
    "lower_red = np.array([170,120,70])\n",
    "upper_red = np.array([180,255,255])\n",
    "mask2 = cv.inRange(hsv,lower_red,upper_red)\n",
    "mask1 = mask1+mask2"
   ]
  },
  {
   "cell_type": "code",
   "execution_count": 84,
   "metadata": {},
   "outputs": [],
   "source": [
    "r,g,b = red[:,:,2],red[:,:,1],red[:,:,0]\n",
    "rb,gb,bb = back[:,:,2],back[:,:,1],back[:,:,0]\n",
    "req = np.full((red.shape[0],red.shape[1],red.shape[2]),255).astype(\"uint8\")\n",
    "for i in range(red.shape[0]):\n",
    "    for j in range(red.shape[1]):\n",
    "        if not((r[i][j]>20) and (r[i][j]<80) and(g[i][j]>=50) and(g[i][j]<120) and(b[i][j]>=90) and(b[i][j]<170)) :\n",
    "            req[i][j][2]=r[i][j]\n",
    "            req[i][j][1]=g[i][j]\n",
    "            req[i][j][0]=b[i][j]\n",
    "        else:\n",
    "            req[i][j][2]=rb[i][j]\n",
    "            req[i][j][1]=gb[i][j]\n",
    "            req[i][j][0]=bb[i][j]"
   ]
  },
  {
   "cell_type": "code",
   "execution_count": 85,
   "metadata": {},
   "outputs": [],
   "source": [
    "cv.imshow(\"self\",req)\n",
    "cv.waitKey(0)\n",
    "cv.destroyAllWindows()"
   ]
  },
  {
   "cell_type": "code",
   "execution_count": 24,
   "metadata": {},
   "outputs": [],
   "source": [
    "cv.imshow(\"mask1\",mask1)\n",
    "cv.waitKey(0)\n",
    "cv.destroyAllWindows()"
   ]
  },
  {
   "cell_type": "code",
   "execution_count": 12,
   "metadata": {},
   "outputs": [],
   "source": [
    "mask1 = cv.morphologyEx(mask1,cv.MORPH_OPEN,np.ones((3,3),np.uint8))"
   ]
  },
  {
   "cell_type": "code",
   "execution_count": 13,
   "metadata": {},
   "outputs": [],
   "source": [
    "cv.imshow(\"mask1\",mask1)\n",
    "cv.waitKey(0)\n",
    "cv.destroyAllWindows()"
   ]
  },
  {
   "cell_type": "code",
   "execution_count": 14,
   "metadata": {},
   "outputs": [],
   "source": [
    "mask1 = cv.morphologyEx(mask1,cv.MORPH_DILATE,np.ones((3,3),np.uint8))"
   ]
  },
  {
   "cell_type": "code",
   "execution_count": 15,
   "metadata": {},
   "outputs": [],
   "source": [
    "cv.imshow(\"mask1\",mask1)\n",
    "cv.waitKey(0)\n",
    "cv.destroyAllWindows()"
   ]
  },
  {
   "cell_type": "code",
   "execution_count": 16,
   "metadata": {},
   "outputs": [],
   "source": [
    "mask2 = cv.bitwise_not(mask1)"
   ]
  },
  {
   "cell_type": "code",
   "execution_count": 17,
   "metadata": {},
   "outputs": [],
   "source": [
    "cv.imshow(\"mask2\",mask2)\n",
    "cv.waitKey(0)\n",
    "cv.destroyAllWindows()"
   ]
  },
  {
   "cell_type": "code",
   "execution_count": 18,
   "metadata": {},
   "outputs": [],
   "source": [
    "res1 = cv.bitwise_and(red,red,mask=mask2)"
   ]
  },
  {
   "cell_type": "code",
   "execution_count": 19,
   "metadata": {},
   "outputs": [],
   "source": [
    "cv.imshow(\"res1\",res1)\n",
    "cv.waitKey(0)\n",
    "cv.destroyAllWindows()"
   ]
  },
  {
   "cell_type": "code",
   "execution_count": 20,
   "metadata": {},
   "outputs": [],
   "source": [
    "res2 = cv.bitwise_and(back,back,mask=mask1)"
   ]
  },
  {
   "cell_type": "code",
   "execution_count": 21,
   "metadata": {},
   "outputs": [],
   "source": [
    "cv.imshow(\"res2\",res2)\n",
    "cv.waitKey(0)\n",
    "cv.destroyAllWindows()"
   ]
  },
  {
   "cell_type": "code",
   "execution_count": 22,
   "metadata": {},
   "outputs": [],
   "source": [
    "finalOutput = cv.addWeighted(res1,1,res2,1,0)"
   ]
  },
  {
   "cell_type": "code",
   "execution_count": 23,
   "metadata": {},
   "outputs": [],
   "source": [
    "cv.imshow(\"f\",finalOutput)\n",
    "cv.waitKey(0)\n",
    "cv.destroyAllWindows()"
   ]
  },
  {
   "cell_type": "code",
   "execution_count": null,
   "metadata": {},
   "outputs": [],
   "source": []
  }
 ],
 "metadata": {
  "kernelspec": {
   "display_name": "Python 3.10.9 64-bit (microsoft store)",
   "language": "python",
   "name": "python3"
  },
  "language_info": {
   "codemirror_mode": {
    "name": "ipython",
    "version": 3
   },
   "file_extension": ".py",
   "mimetype": "text/x-python",
   "name": "python",
   "nbconvert_exporter": "python",
   "pygments_lexer": "ipython3",
   "version": "3.10.9"
  },
  "orig_nbformat": 4,
  "vscode": {
   "interpreter": {
    "hash": "ba37d69516b96b2df66115ef342e83722e1a1518f5d2e0ee41eb08141fa2fe2a"
   }
  }
 },
 "nbformat": 4,
 "nbformat_minor": 2
}
