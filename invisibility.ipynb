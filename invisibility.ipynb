{
 "cells": [
  {
   "cell_type": "code",
   "execution_count": 2,
   "metadata": {},
   "outputs": [],
   "source": [
    "import cv2 as cv\n",
    "import numpy as np\n",
    "import time"
   ]
  },
  {
   "cell_type": "code",
   "execution_count": 2,
   "metadata": {},
   "outputs": [],
   "source": [
    "format = cv.VideoWriter_fourcc('m','p','4','v')\n",
    "fps = 30\n",
    "h,w = 640,480\n",
    "output = cv.VideoWriter(\"invisible.mp4\",format,fps,(h,w))"
   ]
  },
  {
   "cell_type": "code",
   "execution_count": 8,
   "metadata": {},
   "outputs": [
    {
     "data": {
      "text/plain": [
       "array([[2, 1],\n",
       "       [4, 3]])"
      ]
     },
     "execution_count": 8,
     "metadata": {},
     "output_type": "execute_result"
    }
   ],
   "source": [
    "np.flip([[1,2],[3,4]],axis=1)"
   ]
  },
  {
   "cell_type": "code",
   "execution_count": 9,
   "metadata": {},
   "outputs": [],
   "source": [
    "capture = cv.VideoCapture(0)\n",
    "time.sleep(3)\n",
    "count = 0\n",
    "background = 0\n",
    "for i in range(60):\n",
    "    ret,background = capture.read()\n",
    "background = np.flip(background,axis=1)"
   ]
  },
  {
   "cell_type": "code",
   "execution_count": 10,
   "metadata": {},
   "outputs": [],
   "source": [
    "capture.release()"
   ]
  },
  {
   "cell_type": "code",
   "execution_count": 12,
   "metadata": {},
   "outputs": [],
   "source": [
    "format = cv.VideoWriter_fourcc('m','p','4','v')\n",
    "fps = 30\n",
    "h,w = 640,480\n",
    "output = cv.VideoWriter(\"invisible2.mp4\",format,fps,(h,w))\n",
    "\n",
    "capture = cv.VideoCapture(0)\n",
    "time.sleep(3)\n",
    "count = 0\n",
    "background = 0\n",
    "for i in range(60):\n",
    "    isTrue,background = capture.read()\n",
    "background = np.flip(background,axis=1) \n",
    "\n",
    "while capture.isOpened():\n",
    "    isTrue,img = capture.read()\n",
    "    if not isTrue:\n",
    "        cv.destroyAllWindows()\n",
    "        break\n",
    "    count+=1\n",
    "    img = np.flip(img,axis=1)\n",
    "    hsv = cv.cvtColor(img, cv.COLOR_BGR2HSV)\n",
    "    \n",
    "    lower_red = np.array([0,120,50])\n",
    "    upper_red = np.array([15,255,255])\n",
    "    mask1 = cv.inRange(hsv,lower_red,upper_red)\n",
    "    \n",
    "    lower_red = np.array([165,120,70])\n",
    "    upper_red = np.array([180,255,255])\n",
    "    mask2 = cv.inRange(hsv,lower_red,upper_red)\n",
    "    mask1 = mask1+mask2\n",
    "    \n",
    "    # mask1 = cv.morphologyEx(mask1,cv.MORPH_OPEN,np.ones((3,3),np.uint8))\n",
    "    # mask1 = cv.morphologyEx(mask1,cv.MORPH_DILATE,np.ones((3,3),np.uint8))\n",
    "    mask2 = cv.bitwise_not(mask1)\n",
    "    \n",
    "    res1 = cv.bitwise_and(img,img,mask=mask2)\n",
    "    res2 = cv.bitwise_and(background,background,mask=mask1)\n",
    "    finalOutput = cv.addWeighted(res1,1,res2,1,0)\n",
    "    output.write(finalOutput)\n",
    "    cv.imshow(\"magic\",finalOutput)\n",
    "    if cv.waitKey(20)==ord('q'):\n",
    "        cv.destroyAllWindows()\n",
    "        break\n",
    "capture.release()\n",
    "output.release()  "
   ]
  },
  {
   "cell_type": "code",
   "execution_count": 8,
   "metadata": {},
   "outputs": [],
   "source": [
    "format = cv.VideoWriter_fourcc('m','p','4','v')\n",
    "fps = 30\n",
    "h,w = 640,480\n",
    "output = cv.VideoWriter(\"invisible2.mp4\",format,fps,(h,w))\n",
    "\n",
    "capture = cv.VideoCapture(0)\n",
    "time.sleep(3)\n",
    "count = 0\n",
    "background = 0\n",
    "for i in range(60):\n",
    "    isTrue,background = capture.read()\n",
    "# background = np.flip(background,axis=1) \n",
    "\n",
    "while capture.isOpened():\n",
    "    isTrue,img = capture.read()\n",
    "    if not isTrue:\n",
    "        cv.destroyAllWindows()\n",
    "        break\n",
    "    count+=1\n",
    "    r,g,b = img[:,:,2],img[:,:,1],img[:,:,0]\n",
    "    rb,gb,bb = background[:,:,2],background[:,:,1],background[:,:,0]\n",
    "    req = np.full((img.shape[0],img.shape[1],img.shape[2]),255).astype(\"uint8\")\n",
    "    for i in range(img.shape[0]):\n",
    "        for j in range(img.shape[1]):\n",
    "            if not((r[i][j]>20) and (r[i][j]<80) and(g[i][j]>=50) and(g[i][j]<120) and(b[i][j]>=90) and(b[i][j]<170)) :\n",
    "                req[i][j][2]=r[i][j]\n",
    "                req[i][j][1]=g[i][j]\n",
    "                req[i][j][0]=b[i][j]\n",
    "            else:\n",
    "                req[i][j][2]=rb[i][j]\n",
    "                req[i][j][1]=gb[i][j]\n",
    "                req[i][j][0]=bb[i][j]\n",
    "    output.write(req)\n",
    "    cv.imshow(\"magic\",req)\n",
    "    if cv.waitKey(20)==ord('q'):\n",
    "        cv.destroyAllWindows()\n",
    "        break\n",
    "capture.release()\n",
    "output.release()  "
   ]
  },
  {
   "cell_type": "markdown",
   "metadata": {},
   "source": []
  }
 ],
 "metadata": {
  "kernelspec": {
   "display_name": "Python 3.10.9 64-bit (microsoft store)",
   "language": "python",
   "name": "python3"
  },
  "language_info": {
   "codemirror_mode": {
    "name": "ipython",
    "version": 3
   },
   "file_extension": ".py",
   "mimetype": "text/x-python",
   "name": "python",
   "nbconvert_exporter": "python",
   "pygments_lexer": "ipython3",
   "version": "3.10.9"
  },
  "orig_nbformat": 4,
  "vscode": {
   "interpreter": {
    "hash": "ba37d69516b96b2df66115ef342e83722e1a1518f5d2e0ee41eb08141fa2fe2a"
   }
  }
 },
 "nbformat": 4,
 "nbformat_minor": 2
}
